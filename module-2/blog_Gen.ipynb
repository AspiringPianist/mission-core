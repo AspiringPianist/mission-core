{
  "cells": [
    {
      "cell_type": "markdown",
      "metadata": {
        "id": "i6MSf_dpp0T9"
      },
      "source": [
        "Change the Runtime type to T4 GPU so that we can use cuda tools"
      ]
    },
    {
      "cell_type": "code",
      "execution_count": null,
      "metadata": {
        "colab": {
          "base_uri": "https://localhost:8080/"
        },
        "collapsed": true,
        "id": "LlMcoiCNpZml",
        "outputId": "d036b18e-5809-4ac6-c644-4d0b4a1d882e"
      },
      "outputs": [],
      "source": [
        "!pip install langchain"
      ]
    },
    {
      "cell_type": "code",
      "execution_count": null,
      "metadata": {
        "colab": {
          "base_uri": "https://localhost:8080/"
        },
        "id": "kJVZNEG2pcHS",
        "outputId": "51e1ccf3-f29f-42cf-a550-913c9061a371"
      },
      "outputs": [],
      "source": [
        "!pip install chromadb"
      ]
    },
    {
      "cell_type": "code",
      "execution_count": null,
      "metadata": {
        "colab": {
          "base_uri": "https://localhost:8080/"
        },
        "id": "SbjG0ODkpejm",
        "outputId": "cf8dd86a-096a-47bb-f482-28751d104f99"
      },
      "outputs": [],
      "source": [
        "!pip install PyPDF2"
      ]
    },
    {
      "cell_type": "code",
      "execution_count": null,
      "metadata": {
        "colab": {
          "base_uri": "https://localhost:8080/"
        },
        "id": "1kGtv8fTpoRb",
        "outputId": "ed0b9ee5-acac-4ae5-ae05-8f8b56b974e5"
      },
      "outputs": [],
      "source": [
        "!pip install transformers diffusers accelerate"
      ]
    },
    {
      "cell_type": "code",
      "execution_count": null,
      "metadata": {
        "colab": {
          "base_uri": "https://localhost:8080/"
        },
        "id": "M__TQbuIprgb",
        "outputId": "ff924f5b-78c8-4c89-bc02-dbcee4dbae2a"
      },
      "outputs": [],
      "source": [
        "!pip install sentence-transformers"
      ]
    },
    {
      "cell_type": "code",
      "execution_count": null,
      "metadata": {
        "colab": {
          "base_uri": "https://localhost:8080/"
        },
        "id": "t3sPjwmRpuGW",
        "outputId": "6dd5594d-a7f8-4068-c0ae-97f99cce9bc4"
      },
      "outputs": [],
      "source": [
        "\n",
        "!pip install torch torchvision torchaudio --index-url https://download.pytorch.org/whl/cu118"
      ]
    },
    {
      "cell_type": "code",
      "execution_count": null,
      "metadata": {
        "colab": {
          "base_uri": "https://localhost:8080/"
        },
        "id": "D7zix-B4qR8V",
        "outputId": "11b8e047-79e4-43e3-f807-2bb1c0252cfb"
      },
      "outputs": [],
      "source": [
        "!pip install streamlit"
      ]
    },
    {
      "cell_type": "code",
      "execution_count": null,
      "metadata": {
        "colab": {
          "base_uri": "https://localhost:8080/"
        },
        "id": "wl-I_juvqmBO",
        "outputId": "dfedb125-369c-43a9-f153-4762b2b725da"
      },
      "outputs": [],
      "source": [
        "pip install -U langchain-community"
      ]
    },
    {
      "cell_type": "markdown",
      "metadata": {
        "id": "stE8KmB5rRLO"
      },
      "source": [
        "run streamlit as:"
      ]
    },
    {
      "cell_type": "markdown",
      "metadata": {
        "id": "uxVxywW9rVZS"
      },
      "source": [
        "streamlit run /usr/local/lib/python3.11/dist-packages/colab_kernel_launcher.py"
      ]
    },
    {
      "cell_type": "code",
      "execution_count": null,
      "metadata": {
        "colab": {
          "base_uri": "https://localhost:8080/"
        },
        "id": "sedo60wnrsPg",
        "outputId": "7b6fe39e-95a0-4d05-e657-b78557c52eb1"
      },
      "outputs": [],
      "source": [
        "!pip install pyngrok"
      ]
    },
    {
      "cell_type": "code",
      "execution_count": null,
      "metadata": {
        "colab": {
          "base_uri": "https://localhost:8080/"
        },
        "id": "vpnL_WFrV8DZ",
        "outputId": "7921dc9f-34b3-4cef-f3b9-0edb6593af3d"
      },
      "outputs": [],
      "source": [
        "%pip install -qU langchain-groq"
      ]
    },
    {
      "cell_type": "code",
      "execution_count": null,
      "metadata": {
        "colab": {
          "base_uri": "https://localhost:8080/"
        },
        "id": "tctv786TVsa5",
        "outputId": "34cc90c8-f5c4-4371-844c-45964e143d0b"
      },
      "outputs": [],
      "source": [
        "import getpass\n",
        "import os\n",
        "\n",
        "if \"GROQ_API_KEY\" not in os.environ:\n",
        "    os.environ[\"GROQ_API_KEY\"] = getpass.getpass(\"enter api key: \")"
      ]
    },
    {
      "cell_type": "code",
      "execution_count": null,
      "metadata": {
        "colab": {
          "base_uri": "https://localhost:8080/"
        },
        "id": "NzNkCEM4rjXr",
        "outputId": "075a71e0-b5d6-4dab-d297-13ef083064a6"
      },
      "outputs": [],
      "source": [
        "!pip install tiktoken"
      ]
    },
    {
      "cell_type": "code",
      "execution_count": null,
      "metadata": {
        "id": "Nbsg6dkCvB36"
      },
      "outputs": [],
      "source": [
        "import re"
      ]
    },
    {
      "cell_type": "code",
      "execution_count": null,
      "metadata": {
        "id": "f96_573nsGbz"
      },
      "outputs": [],
      "source": [
        "from pyngrok import ngrok"
      ]
    },
    {
      "cell_type": "code",
      "execution_count": null,
      "metadata": {
        "id": "V6L_8bwPzfyq"
      },
      "outputs": [],
      "source": [
        "pip install langchain-huggingface"
      ]
    },
    {
      "cell_type": "code",
      "execution_count": null,
      "metadata": {
        "colab": {
          "base_uri": "https://localhost:8080/"
        },
        "id": "WupEBRbqsPrg",
        "outputId": "3a0fa93e-b235-4692-fc26-f857ea89b6f5"
      },
      "outputs": [],
      "source": [
        "from os import readv\n",
        "\n",
        "# Write the Streamlit app to a file\n",
        "\n",
        "\n",
        "# Start Streamlit app\n",
        "!ngrok config add-authtoken \"auth token\"\n",
        "port = 8501\n",
        "public_url = ngrok.connect(port)\n",
        "print(f\"Streamlit app is live at: {public_url}\")\n",
        "\n",
        "# Run the Streamlit app\n",
        "!streamlit run app.py --server.port 8501"
      ]
    }
  ],
  "metadata": {
    "accelerator": "GPU",
    "colab": {
      "gpuType": "T4",
      "provenance": []
    },
    "kernelspec": {
      "display_name": "Python 3",
      "name": "python3"
    },
    "language_info": {
      "name": "python"
    }
  },
  "nbformat": 4,
  "nbformat_minor": 0
}
